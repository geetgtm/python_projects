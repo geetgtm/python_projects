{
 "cells": [
  {
   "cell_type": "markdown",
   "id": "baf4ec9d-6664-4475-bb13-29732d70e1e0",
   "metadata": {},
   "source": [
    "#####TWO SUM PROBLEM########\n"
   ]
  },
  {
   "cell_type": "code",
   "execution_count": null,
   "id": "ff4b475a-145a-4a20-865f-794b7d1866f3",
   "metadata": {},
   "outputs": [],
   "source": []
  },
  {
   "cell_type": "code",
   "execution_count": 1,
   "id": "475e0eca-f562-41c2-bfb6-5ff004f7bcf5",
   "metadata": {},
   "outputs": [],
   "source": [
    "def two_sums(nums,target):\n",
    "    d={}\n",
    "    for i in range(len(nums)):\n",
    "        if target-nums[i] in d:\n",
    "            return[d[target-nums[i]],i]\n",
    "        d[nums[i]]=i\n",
    "    return -1"
   ]
  },
  {
   "cell_type": "code",
   "execution_count": 5,
   "id": "e40443f7-c338-4e38-aed9-578d19c0a4b4",
   "metadata": {},
   "outputs": [
    {
     "name": "stdout",
     "output_type": "stream",
     "text": [
      "[2, 3]\n"
     ]
    }
   ],
   "source": [
    "L=[2,5,3,7,4]\n",
    "print(two_sums(L,10))"
   ]
  },
  {
   "cell_type": "code",
   "execution_count": null,
   "id": "6c3ecb63-226d-4a7a-9966-c59a9507dbc2",
   "metadata": {},
   "outputs": [],
   "source": []
  }
 ],
 "metadata": {
  "kernelspec": {
   "display_name": "Python 3 (ipykernel)",
   "language": "python",
   "name": "python3"
  },
  "language_info": {
   "codemirror_mode": {
    "name": "ipython",
    "version": 3
   },
   "file_extension": ".py",
   "mimetype": "text/x-python",
   "name": "python",
   "nbconvert_exporter": "python",
   "pygments_lexer": "ipython3",
   "version": "3.11.7"
  }
 },
 "nbformat": 4,
 "nbformat_minor": 5
}
