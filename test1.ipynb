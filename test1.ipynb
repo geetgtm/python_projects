{
 "cells": [
  {
   "cell_type": "code",
   "execution_count": 32,
   "id": "33d631cd-e73f-4f2e-9c6b-f6469540da53",
   "metadata": {},
   "outputs": [],
   "source": [
    "f= open('kipling.txt','w')"
   ]
  },
  {
   "cell_type": "code",
   "execution_count": 33,
   "id": "312b028e-9d76-4b44-9292-e184c2fc5b18",
   "metadata": {},
   "outputs": [
    {
     "name": "stdout",
     "output_type": "stream",
     "text": [
      "<class '_io.TextIOWrapper'>\n"
     ]
    }
   ],
   "source": [
    "print(type(f))"
   ]
  },
  {
   "cell_type": "code",
   "execution_count": 36,
   "id": "1b05825d-50fd-47cf-9dc8-e0b1eefd9d7b",
   "metadata": {},
   "outputs": [
    {
     "ename": "SyntaxError",
     "evalue": "unterminated string literal (detected at line 1) (1481326251.py, line 1)",
     "output_type": "error",
     "traceback": [
      "\u001b[0;36m  Cell \u001b[0;32mIn[36], line 1\u001b[0;36m\u001b[0m\n\u001b[0;31m    f.write('If you can keep your head when all about you\\n\u001b[0m\n\u001b[0m            ^\u001b[0m\n\u001b[0;31mSyntaxError\u001b[0m\u001b[0;31m:\u001b[0m unterminated string literal (detected at line 1)\n"
     ]
    }
   ],
   "source": [
    "f.write('If you can keep your head when all about you\\n   \n",
    "    Are losing theirs and blaming it on you')\n",
    "    "
   ]
  },
  {
   "cell_type": "code",
   "execution_count": 37,
   "id": "27609397-b712-43ef-a86a-0a8eed2f2ebe",
   "metadata": {},
   "outputs": [
    {
     "data": {
      "text/plain": [
       "5"
      ]
     },
     "execution_count": 37,
     "metadata": {},
     "output_type": "execute_result"
    }
   ],
   "source": [
    "f.write(\"hello\")"
   ]
  },
  {
   "cell_type": "code",
   "execution_count": 38,
   "id": "9b40c19d-9fb3-4453-95ad-70cb45a15a99",
   "metadata": {},
   "outputs": [],
   "source": [
    "f= open('kipling.txt','r')"
   ]
  },
  {
   "cell_type": "code",
   "execution_count": 39,
   "id": "9c9c3d83-3ec7-4cc9-afb0-245649eb156d",
   "metadata": {},
   "outputs": [
    {
     "name": "stdout",
     "output_type": "stream",
     "text": [
      "hello\n"
     ]
    }
   ],
   "source": [
    "print(f.read())"
   ]
  },
  {
   "cell_type": "code",
   "execution_count": 40,
   "id": "1e05d15a-7ddc-4d5b-a444-c229ea2238b5",
   "metadata": {},
   "outputs": [
    {
     "ename": "UnsupportedOperation",
     "evalue": "not writable",
     "output_type": "error",
     "traceback": [
      "\u001b[0;31m---------------------------------------------------------------------------\u001b[0m",
      "\u001b[0;31mUnsupportedOperation\u001b[0m                      Traceback (most recent call last)",
      "Cell \u001b[0;32mIn[40], line 1\u001b[0m\n\u001b[0;32m----> 1\u001b[0m f\u001b[38;5;241m.\u001b[39mwrite(\u001b[38;5;124m'\u001b[39m\u001b[38;5;124mIf you can keep your head when all about you\u001b[39m\u001b[38;5;130;01m\\n\u001b[39;00m\u001b[38;5;124mAre losing theirs and blaming it on you\u001b[39m\u001b[38;5;124m'\u001b[39m)\n",
      "\u001b[0;31mUnsupportedOperation\u001b[0m: not writable"
     ]
    }
   ],
   "source": [
    "f.write('If you can keep your head when all about you\\nAre losing theirs and blaming it on you')"
   ]
  },
  {
   "cell_type": "code",
   "execution_count": 41,
   "id": "f01a9026-7406-42c8-b084-af33fc758760",
   "metadata": {},
   "outputs": [],
   "source": [
    "f= open('kipling.txt','w')"
   ]
  },
  {
   "cell_type": "code",
   "execution_count": 42,
   "id": "46a24b53-3743-4e7f-afdc-8e9ce84e3f75",
   "metadata": {},
   "outputs": [
    {
     "data": {
      "text/plain": [
       "84"
      ]
     },
     "execution_count": 42,
     "metadata": {},
     "output_type": "execute_result"
    }
   ],
   "source": [
    "f.write('If you can keep your head when all about you\\nAre losing theirs and blaming it on you')"
   ]
  },
  {
   "cell_type": "code",
   "execution_count": 43,
   "id": "3bd031e4-6e8e-49b7-a8d6-a21f702dcead",
   "metadata": {},
   "outputs": [
    {
     "data": {
      "text/plain": [
       "93"
      ]
     },
     "execution_count": 43,
     "metadata": {},
     "output_type": "execute_result"
    }
   ],
   "source": [
    "f.write('If you can trust yourself when all men doubt you,\\nBut make allowance for their doubting too; ')"
   ]
  },
  {
   "cell_type": "code",
   "execution_count": 46,
   "id": "a68668e8-521a-433b-ac26-aa667ab83936",
   "metadata": {},
   "outputs": [
    {
     "data": {
      "text/plain": [
       "83"
      ]
     },
     "execution_count": 46,
     "metadata": {},
     "output_type": "execute_result"
    }
   ],
   "source": [
    "f.write('If you can wait and not be tired by waiting,\\nOr being lied about, don’t deal in lies,')\n",
    "f. write('Or being hated, don’t give way to hating,\\nAnd yet don’t look too good, nor too wise')"
   ]
  },
  {
   "cell_type": "code",
   "execution_count": 47,
   "id": "e674a31c-2d20-450e-bb2b-88ff1c98ba23",
   "metadata": {},
   "outputs": [
    {
     "ename": "AttributeError",
     "evalue": "'_io.TextIOWrapper' object has no attribute 'type'",
     "output_type": "error",
     "traceback": [
      "\u001b[0;31m---------------------------------------------------------------------------\u001b[0m",
      "\u001b[0;31mAttributeError\u001b[0m                            Traceback (most recent call last)",
      "Cell \u001b[0;32mIn[47], line 1\u001b[0m\n\u001b[0;32m----> 1\u001b[0m \u001b[38;5;28mprint\u001b[39m(f\u001b[38;5;241m.\u001b[39mtype())\n",
      "\u001b[0;31mAttributeError\u001b[0m: '_io.TextIOWrapper' object has no attribute 'type'"
     ]
    }
   ],
   "source": [
    "print(f.type())"
   ]
  },
  {
   "cell_type": "code",
   "execution_count": 48,
   "id": "6d0104f0-a54e-4898-8fda-2cec47dbe8ca",
   "metadata": {},
   "outputs": [
    {
     "name": "stdout",
     "output_type": "stream",
     "text": [
      "<class '_io.TextIOWrapper'>\n"
     ]
    }
   ],
   "source": [
    "print(type(f))"
   ]
  },
  {
   "cell_type": "code",
   "execution_count": 49,
   "id": "5714db88-4eca-4558-8b65-8cc595d5b291",
   "metadata": {},
   "outputs": [],
   "source": [
    "f.close()"
   ]
  },
  {
   "cell_type": "code",
   "execution_count": 50,
   "id": "fd09154e-df77-4375-9eda-a3e3707da604",
   "metadata": {},
   "outputs": [],
   "source": [
    "f= open('kipling.txt','r')"
   ]
  },
  {
   "cell_type": "code",
   "execution_count": 51,
   "id": "213dbdeb-7075-4f8b-8d11-0ddb24451750",
   "metadata": {},
   "outputs": [
    {
     "ename": "SyntaxError",
     "evalue": "unmatched ')' (1859753506.py, line 1)",
     "output_type": "error",
     "traceback": [
      "\u001b[0;36m  Cell \u001b[0;32mIn[51], line 1\u001b[0;36m\u001b[0m\n\u001b[0;31m    f.read)\u001b[0m\n\u001b[0m          ^\u001b[0m\n\u001b[0;31mSyntaxError\u001b[0m\u001b[0;31m:\u001b[0m unmatched ')'\n"
     ]
    }
   ],
   "source": [
    "f.read)"
   ]
  },
  {
   "cell_type": "code",
   "execution_count": 52,
   "id": "b2f0631e-04da-4cc9-b186-0a6c0acc2f66",
   "metadata": {},
   "outputs": [
    {
     "data": {
      "text/plain": [
       "'If you can keep your head when all about you\\nAre losing theirs and blaming it on youIf you can trust yourself when all men doubt you,\\nBut make allowance for their doubting too; If you can wait and not be tired by waiting,\\nOr being lied about, don’t deal in lies,Or being hated, don’t give way to hating,\\nAnd yet don’t look too good, nor too wise'"
      ]
     },
     "execution_count": 52,
     "metadata": {},
     "output_type": "execute_result"
    }
   ],
   "source": [
    "f.read()"
   ]
  },
  {
   "cell_type": "code",
   "execution_count": 53,
   "id": "998bce28-6f00-4961-97b8-e21d21d1eca4",
   "metadata": {},
   "outputs": [],
   "source": [
    "f.close()"
   ]
  },
  {
   "cell_type": "code",
   "execution_count": 55,
   "id": "f03eda17-711f-4ef1-a365-e1d8bdb5f501",
   "metadata": {},
   "outputs": [
    {
     "name": "stdout",
     "output_type": "stream",
     "text": [
      "['If you can keep your head when all about you\\n', 'Are losing theirs and blaming it on youIf you can trust yourself when all men doubt you,\\n', 'But make allowance for their doubting too; If you can wait and not be tired by waiting,\\n', 'Or being lied about, don’t deal in lies,Or being hated, don’t give way to hating,\\n', 'And yet don’t look too good, nor too wise']\n"
     ]
    }
   ],
   "source": [
    "f= open('kipling.txt','r')\n",
    "print(f.readlines())\n"
   ]
  },
  {
   "cell_type": "code",
   "execution_count": null,
   "id": "ad50ded2-818a-4fa0-ba21-1c502d870a0f",
   "metadata": {},
   "outputs": [],
   "source": []
  },
  {
   "cell_type": "code",
   "execution_count": 55,
   "id": "2d440762-52e7-443a-b99b-699bcce87fa6",
   "metadata": {},
   "outputs": [
    {
     "name": "stdout",
     "output_type": "stream",
     "text": [
      "['If you can keep your head when all about you\\n', 'Are losing theirs and blaming it on youIf you can trust yourself when all men doubt you,\\n', 'But make allowance for their doubting too; If you can wait and not be tired by waiting,\\n', 'Or being lied about, don’t deal in lies,Or being hated, don’t give way to hating,\\n', 'And yet don’t look too good, nor too wise']\n"
     ]
    }
   ],
   "source": [
    "f= open('kipling.txt','r')\n",
    "print(f.readlines())\n"
   ]
  },
  {
   "cell_type": "code",
   "execution_count": 56,
   "id": "3a077c41-60d7-4a16-afec-48e98bc6174a",
   "metadata": {},
   "outputs": [],
   "source": [
    "f= open('kipling.txt','a')"
   ]
  },
  {
   "cell_type": "code",
   "execution_count": 57,
   "id": "8083d45f-1473-4e90-8f51-2f033b2f1fb3",
   "metadata": {},
   "outputs": [
    {
     "data": {
      "text/plain": [
       "102"
      ]
     },
     "execution_count": 57,
     "metadata": {},
     "output_type": "execute_result"
    }
   ],
   "source": [
    "f.write('If you can dream—and not make dreams your master;\\n If you can think—and not make thoughts your aim;   ')"
   ]
  },
  {
   "cell_type": "code",
   "execution_count": 58,
   "id": "eb68ef6f-2f5e-42c3-8b25-8b99838b84c5",
   "metadata": {},
   "outputs": [],
   "source": [
    "f.close()"
   ]
  },
  {
   "cell_type": "code",
   "execution_count": 59,
   "id": "29ee2783-5b7a-4694-9fb7-34fd2ff21822",
   "metadata": {},
   "outputs": [
    {
     "name": "stdout",
     "output_type": "stream",
     "text": [
      "If you can keep your head when all about you\n",
      "Are losing theirs and blaming it on youIf you can trust yourself when all men doubt you,\n",
      "But make allowance for their doubting too; If you can wait and not be tired by waiting,\n",
      "Or being lied about, don’t deal in lies,Or being hated, don’t give way to hating,\n",
      "And yet don’t look too good, nor too wiseIf you can dream—and not make dreams your master;\n",
      " If you can think—and not make thoughts your aim;   \n"
     ]
    }
   ],
   "source": [
    "f = open('kipling.txt','r')\n",
    "print(f.read())"
   ]
  },
  {
   "cell_type": "code",
   "execution_count": 60,
   "id": "43f245d2-f044-4d9e-815c-4bffd0a39048",
   "metadata": {},
   "outputs": [
    {
     "name": "stdout",
     "output_type": "stream",
     "text": [
      "If you can keep your head when all about you\n",
      "\n",
      "Are losing theirs and blaming it on youIf you can trust yourself when all men doubt you,\n",
      "\n",
      "But make allowance for their doubting too; If you can wait and not be tired by waiting,\n",
      "\n",
      "Or being lied about, don’t deal in lies,Or being hated, don’t give way to hating,\n",
      "\n",
      "And yet don’t look too good, nor too wiseIf you can dream—and not make dreams your master;\n",
      "\n",
      " If you can think—and not make thoughts your aim;   \n"
     ]
    }
   ],
   "source": [
    "with open('kipling.txt','r') as f:\n",
    "    for line in f.readlines():\n",
    "        print(line)"
   ]
  },
  {
   "cell_type": "code",
   "execution_count": 63,
   "id": "dc16054e-84b5-4e08-bdec-1c66131563af",
   "metadata": {},
   "outputs": [],
   "source": [
    "def fib_2(n):\n",
    "    if n==0:\n",
    "        return 0\n",
    "    elif n==1:\n",
    "        return 1\n",
    "    else:\n",
    "        return fib_2(n-1)+fib_2(n-2)\n",
    "        "
   ]
  },
  {
   "cell_type": "code",
   "execution_count": 68,
   "id": "38e7214a-b0e1-41d2-8c30-7d7f52943e98",
   "metadata": {},
   "outputs": [
    {
     "name": "stdout",
     "output_type": "stream",
     "text": [
      "9227465\n"
     ]
    }
   ],
   "source": [
    "x= fib_2(35)\n",
    "print(x)"
   ]
  },
  {
   "cell_type": "code",
   "execution_count": 69,
   "id": "3abac257-b938-4a3f-97ae-1690249d47da",
   "metadata": {},
   "outputs": [
    {
     "ename": "KeyboardInterrupt",
     "evalue": "",
     "output_type": "error",
     "traceback": [
      "\u001b[0;31m---------------------------------------------------------------------------\u001b[0m",
      "\u001b[0;31mKeyboardInterrupt\u001b[0m                         Traceback (most recent call last)",
      "Cell \u001b[0;32mIn[69], line 1\u001b[0m\n\u001b[0;32m----> 1\u001b[0m y\u001b[38;5;241m=\u001b[39mfib_2(\u001b[38;5;241m1000\u001b[39m)\n\u001b[1;32m      2\u001b[0m \u001b[38;5;28mprint\u001b[39m(y)\n",
      "Cell \u001b[0;32mIn[63], line 7\u001b[0m, in \u001b[0;36mfib_2\u001b[0;34m(n)\u001b[0m\n\u001b[1;32m      5\u001b[0m     \u001b[38;5;28;01mreturn\u001b[39;00m \u001b[38;5;241m1\u001b[39m\n\u001b[1;32m      6\u001b[0m \u001b[38;5;28;01melse\u001b[39;00m:\n\u001b[0;32m----> 7\u001b[0m     \u001b[38;5;28;01mreturn\u001b[39;00m fib_2(n\u001b[38;5;241m-\u001b[39m\u001b[38;5;241m1\u001b[39m)\u001b[38;5;241m+\u001b[39mfib_2(n\u001b[38;5;241m-\u001b[39m\u001b[38;5;241m2\u001b[39m)\n",
      "Cell \u001b[0;32mIn[63], line 7\u001b[0m, in \u001b[0;36mfib_2\u001b[0;34m(n)\u001b[0m\n\u001b[1;32m      5\u001b[0m     \u001b[38;5;28;01mreturn\u001b[39;00m \u001b[38;5;241m1\u001b[39m\n\u001b[1;32m      6\u001b[0m \u001b[38;5;28;01melse\u001b[39;00m:\n\u001b[0;32m----> 7\u001b[0m     \u001b[38;5;28;01mreturn\u001b[39;00m fib_2(n\u001b[38;5;241m-\u001b[39m\u001b[38;5;241m1\u001b[39m)\u001b[38;5;241m+\u001b[39mfib_2(n\u001b[38;5;241m-\u001b[39m\u001b[38;5;241m2\u001b[39m)\n",
      "    \u001b[0;31m[... skipping similar frames: fib_2 at line 7 (984 times)]\u001b[0m\n",
      "Cell \u001b[0;32mIn[63], line 7\u001b[0m, in \u001b[0;36mfib_2\u001b[0;34m(n)\u001b[0m\n\u001b[1;32m      5\u001b[0m     \u001b[38;5;28;01mreturn\u001b[39;00m \u001b[38;5;241m1\u001b[39m\n\u001b[1;32m      6\u001b[0m \u001b[38;5;28;01melse\u001b[39;00m:\n\u001b[0;32m----> 7\u001b[0m     \u001b[38;5;28;01mreturn\u001b[39;00m fib_2(n\u001b[38;5;241m-\u001b[39m\u001b[38;5;241m1\u001b[39m)\u001b[38;5;241m+\u001b[39mfib_2(n\u001b[38;5;241m-\u001b[39m\u001b[38;5;241m2\u001b[39m)\n",
      "Cell \u001b[0;32mIn[63], line 1\u001b[0m, in \u001b[0;36mfib_2\u001b[0;34m(n)\u001b[0m\n\u001b[0;32m----> 1\u001b[0m \u001b[38;5;28;01mdef\u001b[39;00m \u001b[38;5;21mfib_2\u001b[39m(n):\n\u001b[1;32m      2\u001b[0m     \u001b[38;5;28;01mif\u001b[39;00m n\u001b[38;5;241m==\u001b[39m\u001b[38;5;241m0\u001b[39m:\n\u001b[1;32m      3\u001b[0m         \u001b[38;5;28;01mreturn\u001b[39;00m \u001b[38;5;241m0\u001b[39m\n",
      "\u001b[0;31mKeyboardInterrupt\u001b[0m: "
     ]
    }
   ],
   "source": [
    "y=fib_2(1000)\n",
    "print(y)"
   ]
  },
  {
   "cell_type": "code",
   "execution_count": 66,
   "id": "cae8fe2e-d61c-4353-a6d8-72a80f0c9c89",
   "metadata": {},
   "outputs": [],
   "source": [
    "def sum_two(a,b):\n",
    "    return a*b"
   ]
  },
  {
   "cell_type": "code",
   "execution_count": 67,
   "id": "fa2f5fb3-c398-4936-b3dd-8b1cf95b7507",
   "metadata": {},
   "outputs": [
    {
     "name": "stdout",
     "output_type": "stream",
     "text": [
      "21\n"
     ]
    }
   ],
   "source": [
    "\n",
    "\n",
    "x= sum_two(7,3)\n",
    "print(x)"
   ]
  },
  {
   "cell_type": "code",
   "execution_count": null,
   "id": "6016a71a-1549-453c-a838-5b6f18cb6f36",
   "metadata": {},
   "outputs": [],
   "source": [
    "print(x)"
   ]
  },
  {
   "cell_type": "code",
   "execution_count": null,
   "id": "13ea7f5a-b99a-4271-bc32-15ed293225b3",
   "metadata": {},
   "outputs": [],
   "source": [
    "x"
   ]
  },
  {
   "cell_type": "code",
   "execution_count": 71,
   "id": "aeefde99-1f43-46a0-a49b-d2325b26278a",
   "metadata": {},
   "outputs": [
    {
     "data": {
      "text/plain": [
       "'steven'"
      ]
     },
     "execution_count": 71,
     "metadata": {},
     "output_type": "execute_result"
    }
   ],
   "source": [
    "steve.name"
   ]
  },
  {
   "cell_type": "code",
   "execution_count": 72,
   "id": "de46ec0d-8a8c-4a9b-9b13-83b47a5cb80b",
   "metadata": {},
   "outputs": [
    {
     "data": {
      "text/plain": [
       "40"
      ]
     },
     "execution_count": 72,
     "metadata": {},
     "output_type": "execute_result"
    }
   ],
   "source": [
    "steve.age"
   ]
  },
  {
   "cell_type": "code",
   "execution_count": 73,
   "id": "5acb0bbf-b4f5-4a95-847c-d7a8e0f0cadd",
   "metadata": {},
   "outputs": [
    {
     "data": {
      "text/plain": [
       "'abigail'"
      ]
     },
     "execution_count": 73,
     "metadata": {},
     "output_type": "execute_result"
    }
   ],
   "source": [
    "abigail.name"
   ]
  },
  {
   "cell_type": "code",
   "execution_count": 74,
   "id": "bcf8c557-fa10-48e8-9b9f-c18cbb42f2b8",
   "metadata": {},
   "outputs": [
    {
     "ename": "NameError",
     "evalue": "name 'abgail' is not defined",
     "output_type": "error",
     "traceback": [
      "\u001b[0;31m---------------------------------------------------------------------------\u001b[0m",
      "\u001b[0;31mNameError\u001b[0m                                 Traceback (most recent call last)",
      "Cell \u001b[0;32mIn[74], line 1\u001b[0m\n\u001b[0;32m----> 1\u001b[0m abgail\u001b[38;5;241m.\u001b[39mage\n",
      "\u001b[0;31mNameError\u001b[0m: name 'abgail' is not defined"
     ]
    }
   ],
   "source": [
    "abgail.age"
   ]
  },
  {
   "cell_type": "code",
   "execution_count": 75,
   "id": "8693f68c-0d3d-4913-a727-ed8ce65ba9f3",
   "metadata": {},
   "outputs": [
    {
     "data": {
      "text/plain": [
       "35"
      ]
     },
     "execution_count": 75,
     "metadata": {},
     "output_type": "execute_result"
    }
   ],
   "source": [
    "abigail.age"
   ]
  },
  {
   "cell_type": "code",
   "execution_count": 77,
   "id": "c015ccae-1c29-4e20-99d1-a042d95baa7e",
   "metadata": {},
   "outputs": [
    {
     "data": {
      "text/plain": [
       "'patient'"
      ]
     },
     "execution_count": 77,
     "metadata": {},
     "output_type": "execute_result"
    }
   ],
   "source": [
    "steve.status"
   ]
  },
  {
   "cell_type": "code",
   "execution_count": 80,
   "id": "8fd6b3d3-b889-484e-98be-089c84d86441",
   "metadata": {},
   "outputs": [
    {
     "ename": "AttributeError",
     "evalue": "'Patient' object has no attribute 'get_details'",
     "output_type": "error",
     "traceback": [
      "\u001b[0;31m---------------------------------------------------------------------------\u001b[0m",
      "\u001b[0;31mAttributeError\u001b[0m                            Traceback (most recent call last)",
      "Cell \u001b[0;32mIn[80], line 1\u001b[0m\n\u001b[0;32m----> 1\u001b[0m steve\u001b[38;5;241m.\u001b[39mget_details()\n",
      "\u001b[0;31mAttributeError\u001b[0m: 'Patient' object has no attribute 'get_details'"
     ]
    }
   ],
   "source": [
    "steve.get_details()"
   ]
  },
  {
   "cell_type": "code",
   "execution_count": null,
   "id": "e3be6001-30f1-4d46-a89d-a1810dc9ce84",
   "metadata": {},
   "outputs": [],
   "source": []
  },
  {
   "cell_type": "code",
   "execution_count": 84,
   "id": "28283dc3-5593-4467-879f-60a4ad1f3f03",
   "metadata": {},
   "outputs": [],
   "source": [
    "class Patient(object):\n",
    "    status='patient'\n",
    "    def __init__(self,name,age):\n",
    "        self.name=name\n",
    "        self.age=age\n",
    "\n",
    "    def get_details(self):\n",
    "        print(f,'paient details : {self.name},{self.age} years')\n",
    "\n",
    "steve= Patient('steve',40)\n",
    "abi= Patient('abigail',34)"
   ]
  },
  {
   "cell_type": "code",
   "execution_count": 85,
   "id": "9da18886-b796-4966-a394-e972748b12be",
   "metadata": {},
   "outputs": [
    {
     "name": "stdout",
     "output_type": "stream",
     "text": [
      "<_io.TextIOWrapper name='kipling.txt' mode='r' encoding='UTF-8'> paient details : {self.name},{self.age} years\n"
     ]
    }
   ],
   "source": [
    "abi.get_details()"
   ]
  },
  {
   "cell_type": "code",
   "execution_count": null,
   "id": "9f09ac99-8ca2-462d-9c3b-dc2e46dccd65",
   "metadata": {},
   "outputs": [],
   "source": []
  }
 ],
 "metadata": {
  "kernelspec": {
   "display_name": "Python 3 (ipykernel)",
   "language": "python",
   "name": "python3"
  },
  "language_info": {
   "codemirror_mode": {
    "name": "ipython",
    "version": 3
   },
   "file_extension": ".py",
   "mimetype": "text/x-python",
   "name": "python",
   "nbconvert_exporter": "python",
   "pygments_lexer": "ipython3",
   "version": "3.11.7"
  }
 },
 "nbformat": 4,
 "nbformat_minor": 5
}
