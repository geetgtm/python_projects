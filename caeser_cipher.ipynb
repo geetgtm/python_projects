{
 "cells": [
  {
   "cell_type": "markdown",
   "id": "5845732b-824d-4a58-96b3-f26f19878465",
   "metadata": {},
   "source": [
    "##CAESER CIPHER"
   ]
  },
  {
   "cell_type": "code",
   "execution_count": 2,
   "id": "1cd8944f-3044-4e8f-8d7e-35d56ea8abeb",
   "metadata": {},
   "outputs": [],
   "source": [
    "alphabet='abcdefghijklmnopqrstuvwxyz'\n",
    "input_text='hello'"
   ]
  },
  {
   "cell_type": "code",
   "execution_count": 3,
   "id": "c72b7adc-9825-4aab-8fc6-20d843e30584",
   "metadata": {},
   "outputs": [
    {
     "name": "stdout",
     "output_type": "stream",
     "text": [
      "khoor\n"
     ]
    }
   ],
   "source": [
    "output=''\n",
    "for char in input_text:\n",
    "    alpha_index=alphabet.find(char)\n",
    "    output=output+ alphabet[alpha_index+3]\n",
    "print(output)"
   ]
  },
  {
   "cell_type": "markdown",
   "id": "1155b3ae-8d98-4458-ba5c-9031f0f09069",
   "metadata": {},
   "source": [
    "##TO DEAL WITH INDEX HIGHER THAN 26"
   ]
  },
  {
   "cell_type": "code",
   "execution_count": 22,
   "id": "910d19a7-0c56-4d15-998d-e04faaf2ab92",
   "metadata": {},
   "outputs": [],
   "source": [
    "def shift_amt(i):\n",
    "    return i%26"
   ]
  },
  {
   "cell_type": "code",
   "execution_count": 23,
   "id": "3dae175b-d7ee-4d9c-924b-293e5466500a",
   "metadata": {},
   "outputs": [
    {
     "name": "stdout",
     "output_type": "stream",
     "text": [
      "lipps\n"
     ]
    }
   ],
   "source": [
    "output=''\n",
    "for char in input_text:\n",
    "    alpha_index=alphabet.find(char)\n",
    "    output=output+ alphabet[shift_amt(alpha_index+30)]\n",
    "print(output)"
   ]
  },
  {
   "cell_type": "markdown",
   "id": "4967d824-3e80-455d-acfd-b7a6f69d391c",
   "metadata": {},
   "source": [
    "##A PROPER FUNCTION\n"
   ]
  },
  {
   "cell_type": "code",
   "execution_count": 27,
   "id": "b10f516d-ae90-467c-8533-4e9b1c99f747",
   "metadata": {},
   "outputs": [],
   "source": [
    "def caeser_cipher(text,required_shift):\n",
    "    out_string=''\n",
    "    text = text.lower()\n",
    "    for char in text:\n",
    "        if char not in alphabet:\n",
    "            out_string= out_string + char#accounts for spaces and punctuations\n",
    "        else:\n",
    "            alpha_index=alphabet.find(char)\n",
    "            out_string= out_string+alphabet[shift_amt(alpha_index+required_shift)]\n",
    "    return out_string"
   ]
  },
  {
   "cell_type": "code",
   "execution_count": 28,
   "id": "559a227c-3bb8-465e-a72d-51faf507b29f",
   "metadata": {},
   "outputs": [],
   "source": [
    "given_string ='once upon'\n",
    "shift = caeser_cipher(given_string,5)"
   ]
  },
  {
   "cell_type": "code",
   "execution_count": 29,
   "id": "c4fd9a59-396c-4079-8d71-a72072c6efc3",
   "metadata": {},
   "outputs": [
    {
     "data": {
      "text/plain": [
       "'tshj zuts'"
      ]
     },
     "execution_count": 29,
     "metadata": {},
     "output_type": "execute_result"
    }
   ],
   "source": [
    "shift"
   ]
  },
  {
   "cell_type": "code",
   "execution_count": 30,
   "id": "685e68e1-cb96-4468-ab00-12f25ad86da9",
   "metadata": {},
   "outputs": [],
   "source": [
    "kip='Rudyard Kipling is one of the best-known of the late Victorian poets and story-tellers. Although he was awarded the Nobel Prize for literature in 1907, his political views, which grew more toxic as he aged, have long made him critically unpopular. In the New Yorker, Charles McGrath remarked “Kipling has been variously labelled a colonialist, a jingoist, a racist, an anti-Semite, a misogynist, a right-wing imperialist warmonger; and—though some scholars have argued that his views were more complicated than he is given credit for—to some degree he really was all those things. '"
   ]
  },
  {
   "cell_type": "code",
   "execution_count": 31,
   "id": "3fb9d9f3-d048-4973-9856-fdd4c78f78ef",
   "metadata": {},
   "outputs": [],
   "source": [
    "data= caeser_cipher(kip,5)\n"
   ]
  },
  {
   "cell_type": "code",
   "execution_count": 32,
   "id": "82d8aab9-1713-4baa-a0c5-fcaa48b42b89",
   "metadata": {},
   "outputs": [
    {
     "data": {
      "text/plain": [
       "'wzidfwi pnuqnsl nx tsj tk ymj gjxy-pstbs tk ymj qfyj anhytwnfs utjyx fsi xytwd-yjqqjwx. fqymtzlm mj bfx fbfwiji ymj stgjq uwnej ktw qnyjwfyzwj ns 1907, mnx utqnynhfq anjbx, bmnhm lwjb rtwj ytcnh fx mj flji, mfaj qtsl rfij mnr hwnynhfqqd zsutuzqfw. ns ymj sjb dtwpjw, hmfwqjx rhlwfym wjrfwpji “pnuqnsl mfx gjjs afwntzxqd qfgjqqji f htqtsnfqnxy, f onsltnxy, f wfhnxy, fs fsyn-xjrnyj, f rnxtldsnxy, f wnlmy-bnsl nrujwnfqnxy bfwrtsljw; fsi—ymtzlm xtrj xhmtqfwx mfaj fwlzji ymfy mnx anjbx bjwj rtwj htruqnhfyji ymfs mj nx lnajs hwjiny ktw—yt xtrj ijlwjj mj wjfqqd bfx fqq ymtxj ymnslx. '"
      ]
     },
     "execution_count": 32,
     "metadata": {},
     "output_type": "execute_result"
    }
   ],
   "source": [
    "data "
   ]
  },
  {
   "cell_type": "code",
   "execution_count": 33,
   "id": "173f1b5e-8da1-4f31-ae40-94823dfd2355",
   "metadata": {},
   "outputs": [],
   "source": [
    "##decryption\n"
   ]
  },
  {
   "cell_type": "code",
   "execution_count": 35,
   "id": "0729cb56-e930-481c-a5fc-8e04abf99b62",
   "metadata": {},
   "outputs": [
    {
     "name": "stdout",
     "output_type": "stream",
     "text": [
      "rudyard kipling is one of the best-known of the late victorian poets and story-tellers. although he was awarded the nobel prize for literature in 1907, his political views, which grew more toxic as he aged, have long made him critically unpopular. in the new yorker, charles mcgrath remarked “kipling has been variously labelled a colonialist, a jingoist, a racist, an anti-semite, a misogynist, a right-wing imperialist warmonger; and—though some scholars have argued that his views were more complicated than he is given credit for—to some degree he really was all those things. \n"
     ]
    }
   ],
   "source": [
    "print(caeser_cipher(data,-5))"
   ]
  },
  {
   "cell_type": "code",
   "execution_count": 37,
   "id": "ccc565b8-5fbb-435f-bf49-28a74cc8b75c",
   "metadata": {},
   "outputs": [],
   "source": [
    "\n",
    "\n",
    "##user_friendly"
   ]
  },
  {
   "cell_type": "code",
   "execution_count": 44,
   "id": "0e8fac6f-243b-402a-8ec5-e002f7a6a900",
   "metadata": {},
   "outputs": [
    {
     "name": "stdin",
     "output_type": "stream",
     "text": [
      "enter your phrase the cat sat on the mat\n",
      "enter the shift nos 11\n"
     ]
    },
    {
     "name": "stdout",
     "output_type": "stream",
     "text": [
      "esp nle dle zy esp xle\n"
     ]
    }
   ],
   "source": [
    "input_text= input('enter your phrase')\n",
    "input_nos= int(input('enter the shift nos'))\n",
    "result= caeser_cipher(input_text,input_nos)\n",
    "print(result)"
   ]
  },
  {
   "cell_type": "code",
   "execution_count": 45,
   "id": "b0f2ec1e-b232-45c7-91c8-911ccdb31019",
   "metadata": {},
   "outputs": [],
   "source": [
    "##decryption"
   ]
  },
  {
   "cell_type": "code",
   "execution_count": 51,
   "id": "2b6c2349-eda6-40b2-ac3b-7653174f41e9",
   "metadata": {},
   "outputs": [
    {
     "name": "stdin",
     "output_type": "stream",
     "text": [
      "enter your phrase esp nle dle zy esp xle\n",
      "enter the shift nos 11\n"
     ]
    },
    {
     "name": "stdout",
     "output_type": "stream",
     "text": [
      "the cat sat on the mat\n"
     ]
    }
   ],
   "source": [
    "input_text1= input('enter your phrase')\n",
    "input_nos1= int(input('enter the shift nos'))\n",
    "print(caeser_cipher(result,-input_nos1))"
   ]
  },
  {
   "cell_type": "code",
   "execution_count": null,
   "id": "a804c28c-d3f6-4d4c-a607-614036eb5e9a",
   "metadata": {},
   "outputs": [],
   "source": []
  }
 ],
 "metadata": {
  "kernelspec": {
   "display_name": "Python 3 (ipykernel)",
   "language": "python",
   "name": "python3"
  },
  "language_info": {
   "codemirror_mode": {
    "name": "ipython",
    "version": 3
   },
   "file_extension": ".py",
   "mimetype": "text/x-python",
   "name": "python",
   "nbconvert_exporter": "python",
   "pygments_lexer": "ipython3",
   "version": "3.11.7"
  }
 },
 "nbformat": 4,
 "nbformat_minor": 5
}
